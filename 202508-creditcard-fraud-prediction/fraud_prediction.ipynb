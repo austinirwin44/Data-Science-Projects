{
 "cells": [
  {
   "cell_type": "markdown",
   "id": "97e30392",
   "metadata": {},
   "source": [
    "# Credit Card Fraud Detection - Machine Learning Project\n",
    "#### Austin Irwin\n",
    "\n",
    "For this project, I built a machine learning algorithm that predicts fraudulent credit card transactions. The data used for training and testing this model are from the Kaggle dataset called 'Credit Card Transactions Fraud Detection Dataset', which consists of simulated transaction data of 1000 customers and 800 merchants. \n",
    "\n",
    "I used a randfom foret classifier to make fraud predictions."
   ]
  },
  {
   "cell_type": "code",
   "execution_count": 14,
   "id": "2422f72b",
   "metadata": {},
   "outputs": [],
   "source": [
    "# import required packages\n",
    "import pandas as pd\n",
    "import numpy as np"
   ]
  },
  {
   "cell_type": "markdown",
   "id": "d5782b4e",
   "metadata": {},
   "source": [
    "## Data Retrieval & Inspection"
   ]
  },
  {
   "cell_type": "code",
   "execution_count": 26,
   "id": "e8f8d47a",
   "metadata": {},
   "outputs": [],
   "source": [
    "# load in the data\n",
    "fraud_train = pd.read_csv('data/fraudTrain.csv')\n",
    "fraud_test = pd.read_csv('data/fraudTest.csv')"
   ]
  },
  {
   "cell_type": "code",
   "execution_count": 22,
   "id": "9aecadd2",
   "metadata": {},
   "outputs": [
    {
     "name": "stdout",
     "output_type": "stream",
     "text": [
      "Index(['Unnamed: 0', 'trans_date_trans_time', 'cc_num', 'merchant', 'category',\n",
      "       'amt', 'first', 'last', 'gender', 'street', 'city', 'state', 'zip',\n",
      "       'lat', 'long', 'city_pop', 'job', 'dob', 'trans_num', 'unix_time',\n",
      "       'merch_lat', 'merch_long', 'is_fraud'],\n",
      "      dtype='object')\n",
      "Unnamed: 0                 int64\n",
      "trans_date_trans_time     object\n",
      "cc_num                     int64\n",
      "merchant                  object\n",
      "category                  object\n",
      "amt                      float64\n",
      "first                     object\n",
      "last                      object\n",
      "gender                    object\n",
      "street                    object\n",
      "city                      object\n",
      "state                     object\n",
      "zip                        int64\n",
      "lat                      float64\n",
      "long                     float64\n",
      "city_pop                   int64\n",
      "job                       object\n",
      "dob                       object\n",
      "trans_num                 object\n",
      "unix_time                  int64\n",
      "merch_lat                float64\n",
      "merch_long               float64\n",
      "is_fraud                   int64\n",
      "dtype: object\n"
     ]
    }
   ],
   "source": [
    "# look at column names and data types\n",
    "print(fraud_train.columns)\n",
    "print(fraud_train.dtypes)"
   ]
  },
  {
   "cell_type": "code",
   "execution_count": 23,
   "id": "bd731b84",
   "metadata": {},
   "outputs": [
    {
     "name": "stdout",
     "output_type": "stream",
     "text": [
      "   Unnamed: 0 trans_date_trans_time            cc_num  \\\n",
      "0           0   2019-01-01 00:00:18  2703186189652095   \n",
      "1           1   2019-01-01 00:00:44      630423337322   \n",
      "2           2   2019-01-01 00:00:51    38859492057661   \n",
      "3           3   2019-01-01 00:01:16  3534093764340240   \n",
      "4           4   2019-01-01 00:03:06   375534208663984   \n",
      "\n",
      "                             merchant       category     amt      first  \\\n",
      "0          fraud_Rippin, Kub and Mann       misc_net    4.97   Jennifer   \n",
      "1     fraud_Heller, Gutmann and Zieme    grocery_pos  107.23  Stephanie   \n",
      "2                fraud_Lind-Buckridge  entertainment  220.11     Edward   \n",
      "3  fraud_Kutch, Hermiston and Farrell  gas_transport   45.00     Jeremy   \n",
      "4                 fraud_Keeling-Crist       misc_pos   41.96      Tyler   \n",
      "\n",
      "      last gender                        street  ...      lat      long  \\\n",
      "0    Banks      F                561 Perry Cove  ...  36.0788  -81.1781   \n",
      "1     Gill      F  43039 Riley Greens Suite 393  ...  48.8878 -118.2105   \n",
      "2  Sanchez      M      594 White Dale Suite 530  ...  42.1808 -112.2620   \n",
      "3    White      M   9443 Cynthia Court Apt. 038  ...  46.2306 -112.1138   \n",
      "4   Garcia      M              408 Bradley Rest  ...  38.4207  -79.4629   \n",
      "\n",
      "   city_pop                                job         dob  \\\n",
      "0      3495          Psychologist, counselling  1988-03-09   \n",
      "1       149  Special educational needs teacher  1978-06-21   \n",
      "2      4154        Nature conservation officer  1962-01-19   \n",
      "3      1939                    Patent attorney  1967-01-12   \n",
      "4        99     Dance movement psychotherapist  1986-03-28   \n",
      "\n",
      "                          trans_num   unix_time  merch_lat  merch_long  \\\n",
      "0  0b242abb623afc578575680df30655b9  1325376018  36.011293  -82.048315   \n",
      "1  1f76529f8574734946361c461b024d99  1325376044  49.159047 -118.186462   \n",
      "2  a1a22d70485983eac12b5b88dad1cf95  1325376051  43.150704 -112.154481   \n",
      "3  6b849c168bdad6f867558c3793159a81  1325376076  47.034331 -112.561071   \n",
      "4  a41d7549acf90789359a9aa5346dcb46  1325376186  38.674999  -78.632459   \n",
      "\n",
      "   is_fraud  \n",
      "0         0  \n",
      "1         0  \n",
      "2         0  \n",
      "3         0  \n",
      "4         0  \n",
      "\n",
      "[5 rows x 23 columns]\n"
     ]
    }
   ],
   "source": [
    "# get a quick look at the DataFrame\n",
    "print(fraud_train.head())"
   ]
  },
  {
   "cell_type": "code",
   "execution_count": 42,
   "id": "0baf35cc",
   "metadata": {},
   "outputs": [
    {
     "name": "stdout",
     "output_type": "stream",
     "text": [
      "the merchant variable has 693 unique values\n",
      "the city variable has 894 unique values\n",
      "the category variable has 14 unique values\n",
      "the job variable has 494 unique values\n"
     ]
    }
   ],
   "source": [
    "# look at the number of unique values for some predictors\n",
    "print(f'the merchant variable has {fraud_train['merchant'].nunique()} unique values')\n",
    "print(f'the city variable has {fraud_train['city'].nunique()} unique values')\n",
    "print(f'the category variable has {fraud_train['category'].nunique()} unique values')\n",
    "print(f'the job variable has {fraud_train['job'].nunique()} unique values')\n",
    "\n"
   ]
  },
  {
   "cell_type": "markdown",
   "id": "76a2529d",
   "metadata": {},
   "source": [
    "## Data Cleaning & Preparation"
   ]
  },
  {
   "cell_type": "code",
   "execution_count": 27,
   "id": "87846cce",
   "metadata": {},
   "outputs": [
    {
     "data": {
      "text/plain": [
       "Index(['trans_date_trans_time', 'cc_num', 'merchant', 'category', 'amt',\n",
       "       'first', 'last', 'gender', 'street', 'city', 'state', 'zip', 'lat',\n",
       "       'long', 'city_pop', 'job', 'dob', 'trans_num', 'unix_time', 'merch_lat',\n",
       "       'merch_long', 'is_fraud'],\n",
       "      dtype='object')"
      ]
     },
     "execution_count": 27,
     "metadata": {},
     "output_type": "execute_result"
    }
   ],
   "source": [
    "# remove the unnamed column from the train and test DataFrames\n",
    "fraud_train.drop('Unnamed: 0', axis=1, inplace=True)\n",
    "fraud_test.drop('Unnamed: 0', axis=1, inplace=True)\n",
    "\n",
    "fraud_train.columns"
   ]
  },
  {
   "cell_type": "code",
   "execution_count": null,
   "id": "a9353160",
   "metadata": {},
   "outputs": [
    {
     "name": "stdout",
     "output_type": "stream",
     "text": [
      "        trans_date_trans_time  time_sin  time_cos\n",
      "0         2019-01-01 00:00:18  0.001309  0.999999\n",
      "1         2019-01-01 00:00:44  0.003200  0.999995\n",
      "2         2019-01-01 00:00:51  0.003709  0.999993\n",
      "3         2019-01-01 00:01:16  0.005527  0.999985\n",
      "4         2019-01-01 00:03:06  0.013526  0.999909\n",
      "...                       ...       ...       ...\n",
      "1296670   2020-06-21 12:12:08 -0.052917 -0.998599\n",
      "1296671   2020-06-21 12:12:19 -0.053716 -0.998556\n",
      "1296672   2020-06-21 12:12:32 -0.054660 -0.998505\n",
      "1296673   2020-06-21 12:13:36 -0.059306 -0.998240\n",
      "1296674   2020-06-21 12:13:37 -0.059379 -0.998236\n",
      "\n",
      "[1296675 rows x 3 columns]\n",
      "       trans_date_trans_time  time_sin  time_cos\n",
      "0        2020-06-21 12:14:25 -0.062863 -0.998022\n",
      "1        2020-06-21 12:14:33 -0.063444 -0.997985\n",
      "2        2020-06-21 12:14:53 -0.064895 -0.997892\n",
      "3        2020-06-21 12:15:15 -0.066492 -0.997787\n",
      "4        2020-06-21 12:15:17 -0.066637 -0.997777\n",
      "...                      ...       ...       ...\n",
      "555714   2020-12-31 23:59:07 -0.003854  0.999993\n",
      "555715   2020-12-31 23:59:09 -0.003709  0.999993\n",
      "555716   2020-12-31 23:59:15 -0.003272  0.999995\n",
      "555717   2020-12-31 23:59:24 -0.002618  0.999997\n",
      "555718   2020-12-31 23:59:34 -0.001891  0.999998\n",
      "\n",
      "[555719 rows x 3 columns]\n"
     ]
    }
   ],
   "source": [
    "# create a transaction time variable, converting the time to cyclic sin and cos values \n",
    "fraud_train['trans_date_trans_time'] = pd.to_datetime(fraud_train['trans_date_trans_time'])\n",
    "seconds_train = fraud_train['trans_date_trans_time'].dt.hour * 3600 + fraud_train[\"trans_date_trans_time\"].dt.minute * 60 + fraud_train[\"trans_date_trans_time\"].dt.second\n",
    "\n",
    "fraud_test['trans_date_trans_time'] = pd.to_datetime(fraud_test['trans_date_trans_time'])\n",
    "seconds_test = fraud_test['trans_date_trans_time'].dt.hour * 3600 + fraud_test['trans_date_trans_time'].dt.minute * 60 + fraud_test['trans_date_trans_time'].dt.second\n",
    "\n",
    "# encode the time as a cyclic feature (i.e., 23:59 is next to 00:00)\n",
    "fraud_train['time_sin'] = np.sin(2 * np.pi * seconds_train / 86400)\n",
    "fraud_train['time_cos'] = np.cos(2 * np.pi * seconds_train / 86400)\n",
    "\n",
    "fraud_test['time_sin'] = np.sin(2 * np.pi * seconds_test / 86400)\n",
    "fraud_test['time_cos'] = np.cos(2 * np.pi * seconds_test / 86400)\n",
    "\n",
    "print(fraud_train[['trans_date_trans_time', 'time_sin', 'time_cos']])\n",
    "print(fraud_test[['trans_date_trans_time', 'time_sin', 'time_cos']])\n"
   ]
  },
  {
   "cell_type": "code",
   "execution_count": 46,
   "id": "c2dc6e91",
   "metadata": {},
   "outputs": [
    {
     "name": "stdout",
     "output_type": "stream",
     "text": [
      "         age\n",
      "0         30\n",
      "1         40\n",
      "2         56\n",
      "3         52\n",
      "4         32\n",
      "...      ...\n",
      "1296670   58\n",
      "1296671   40\n",
      "1296672   52\n",
      "1296673   39\n",
      "1296674   24\n",
      "\n",
      "[1296675 rows x 1 columns]\n",
      "        age\n",
      "0        52\n",
      "1        30\n",
      "2        49\n",
      "3        32\n",
      "4        65\n",
      "...     ...\n",
      "555714   54\n",
      "555715   21\n",
      "555716   39\n",
      "555717   55\n",
      "555718   27\n",
      "\n",
      "[555719 rows x 1 columns]\n"
     ]
    }
   ],
   "source": [
    "# create an age variable \n",
    "fraud_train['dob'] = pd.to_datetime(fraud_train['dob'])\n",
    "fraud_train['age'] = (fraud_train['trans_date_trans_time'] - fraud_train['dob']).dt.days // 365\n",
    "\n",
    "fraud_test['dob'] = pd.to_datetime(fraud_test['dob'])\n",
    "fraud_test['age'] = (fraud_test['trans_date_trans_time'] - fraud_test['dob']).dt.days // 365\n",
    "\n",
    "print(fraud_train[['age']])\n",
    "print(fraud_test[['age']])"
   ]
  },
  {
   "cell_type": "code",
   "execution_count": null,
   "id": "f2ff2b88",
   "metadata": {},
   "outputs": [],
   "source": [
    "# turn gender into a binary variable (men = 0, women = 1)\n",
    "fraud_train['gender'] = fraud_train['gender'].replace(['M', 'F'], [0, 1])\n",
    "fraud_test['gender'] = fraud_test['gender'].replace(['M', 'F'], [0, 1])"
   ]
  },
  {
   "cell_type": "markdown",
   "id": "1bbb8e2c",
   "metadata": {},
   "source": [
    "## Model Training and Testing"
   ]
  },
  {
   "cell_type": "code",
   "execution_count": null,
   "id": "2eaec658",
   "metadata": {},
   "outputs": [],
   "source": []
  }
 ],
 "metadata": {
  "kernelspec": {
   "display_name": ".venv (3.13.0)",
   "language": "python",
   "name": "python3"
  },
  "language_info": {
   "codemirror_mode": {
    "name": "ipython",
    "version": 3
   },
   "file_extension": ".py",
   "mimetype": "text/x-python",
   "name": "python",
   "nbconvert_exporter": "python",
   "pygments_lexer": "ipython3",
   "version": "3.13.0"
  }
 },
 "nbformat": 4,
 "nbformat_minor": 5
}
