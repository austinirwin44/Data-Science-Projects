{
 "cells": [
  {
   "cell_type": "markdown",
   "id": "97e30392",
   "metadata": {},
   "source": [
    "# Credit Card Fraud Detection - Machine Learning Project\n",
    "#### Austin Irwin\n",
    "\n",
    "For this project, I built a machine learning algorithm that predicts fraudulent credit card transactions. The data used for training and testing this model are from the Kaggle dataset called 'Credit Card Transactions Fraud Detection Dataset', which consists of simulated transaction data of 1000 customers and 800 merchants. \n",
    "\n",
    "I used a randfom forest classifier to make fraud predictions."
   ]
  },
  {
   "cell_type": "code",
   "execution_count": null,
   "id": "2422f72b",
   "metadata": {},
   "outputs": [],
   "source": [
    "# import required packages\n",
    "import pandas as pd\n",
    "import numpy as np\n",
    "import sklearn\n",
    "from sklearn.preprocessing import OneHotEncoder\n",
    "from sklearn.ensemble import RandomForestClassifier"
   ]
  },
  {
   "cell_type": "markdown",
   "id": "d5782b4e",
   "metadata": {},
   "source": [
    "## Data Retrieval & Inspection"
   ]
  },
  {
   "cell_type": "code",
   "execution_count": 81,
   "id": "e8f8d47a",
   "metadata": {},
   "outputs": [],
   "source": [
    "# load in the data\n",
    "fraud_train = pd.read_csv('data/fraudTrain.csv')\n",
    "fraud_test = pd.read_csv('data/fraudTest.csv')"
   ]
  },
  {
   "cell_type": "code",
   "execution_count": 82,
   "id": "9aecadd2",
   "metadata": {},
   "outputs": [
    {
     "name": "stdout",
     "output_type": "stream",
     "text": [
      "<class 'pandas.core.frame.DataFrame'>\n",
      "RangeIndex: 1296675 entries, 0 to 1296674\n",
      "Data columns (total 23 columns):\n",
      " #   Column                 Non-Null Count    Dtype  \n",
      "---  ------                 --------------    -----  \n",
      " 0   Unnamed: 0             1296675 non-null  int64  \n",
      " 1   trans_date_trans_time  1296675 non-null  object \n",
      " 2   cc_num                 1296675 non-null  int64  \n",
      " 3   merchant               1296675 non-null  object \n",
      " 4   category               1296675 non-null  object \n",
      " 5   amt                    1296675 non-null  float64\n",
      " 6   first                  1296675 non-null  object \n",
      " 7   last                   1296675 non-null  object \n",
      " 8   gender                 1296675 non-null  object \n",
      " 9   street                 1296675 non-null  object \n",
      " 10  city                   1296675 non-null  object \n",
      " 11  state                  1296675 non-null  object \n",
      " 12  zip                    1296675 non-null  int64  \n",
      " 13  lat                    1296675 non-null  float64\n",
      " 14  long                   1296675 non-null  float64\n",
      " 15  city_pop               1296675 non-null  int64  \n",
      " 16  job                    1296675 non-null  object \n",
      " 17  dob                    1296675 non-null  object \n",
      " 18  trans_num              1296675 non-null  object \n",
      " 19  unix_time              1296675 non-null  int64  \n",
      " 20  merch_lat              1296675 non-null  float64\n",
      " 21  merch_long             1296675 non-null  float64\n",
      " 22  is_fraud               1296675 non-null  int64  \n",
      "dtypes: float64(5), int64(6), object(12)\n",
      "memory usage: 227.5+ MB\n",
      "None\n",
      "<class 'pandas.core.frame.DataFrame'>\n",
      "RangeIndex: 555719 entries, 0 to 555718\n",
      "Data columns (total 23 columns):\n",
      " #   Column                 Non-Null Count   Dtype  \n",
      "---  ------                 --------------   -----  \n",
      " 0   Unnamed: 0             555719 non-null  int64  \n",
      " 1   trans_date_trans_time  555719 non-null  object \n",
      " 2   cc_num                 555719 non-null  int64  \n",
      " 3   merchant               555719 non-null  object \n",
      " 4   category               555719 non-null  object \n",
      " 5   amt                    555719 non-null  float64\n",
      " 6   first                  555719 non-null  object \n",
      " 7   last                   555719 non-null  object \n",
      " 8   gender                 555719 non-null  object \n",
      " 9   street                 555719 non-null  object \n",
      " 10  city                   555719 non-null  object \n",
      " 11  state                  555719 non-null  object \n",
      " 12  zip                    555719 non-null  int64  \n",
      " 13  lat                    555719 non-null  float64\n",
      " 14  long                   555719 non-null  float64\n",
      " 15  city_pop               555719 non-null  int64  \n",
      " 16  job                    555719 non-null  object \n",
      " 17  dob                    555719 non-null  object \n",
      " 18  trans_num              555719 non-null  object \n",
      " 19  unix_time              555719 non-null  int64  \n",
      " 20  merch_lat              555719 non-null  float64\n",
      " 21  merch_long             555719 non-null  float64\n",
      " 22  is_fraud               555719 non-null  int64  \n",
      "dtypes: float64(5), int64(6), object(12)\n",
      "memory usage: 97.5+ MB\n",
      "None\n"
     ]
    }
   ],
   "source": [
    "# check all columns for data types and null values\n",
    "print(fraud_train.info())\n",
    "print(fraud_test.info())\n"
   ]
  },
  {
   "cell_type": "code",
   "execution_count": 83,
   "id": "bd731b84",
   "metadata": {},
   "outputs": [
    {
     "name": "stdout",
     "output_type": "stream",
     "text": [
      "   Unnamed: 0 trans_date_trans_time            cc_num  \\\n",
      "0           0   2019-01-01 00:00:18  2703186189652095   \n",
      "1           1   2019-01-01 00:00:44      630423337322   \n",
      "2           2   2019-01-01 00:00:51    38859492057661   \n",
      "3           3   2019-01-01 00:01:16  3534093764340240   \n",
      "4           4   2019-01-01 00:03:06   375534208663984   \n",
      "\n",
      "                             merchant       category     amt      first  \\\n",
      "0          fraud_Rippin, Kub and Mann       misc_net    4.97   Jennifer   \n",
      "1     fraud_Heller, Gutmann and Zieme    grocery_pos  107.23  Stephanie   \n",
      "2                fraud_Lind-Buckridge  entertainment  220.11     Edward   \n",
      "3  fraud_Kutch, Hermiston and Farrell  gas_transport   45.00     Jeremy   \n",
      "4                 fraud_Keeling-Crist       misc_pos   41.96      Tyler   \n",
      "\n",
      "      last gender                        street  ...      lat      long  \\\n",
      "0    Banks      F                561 Perry Cove  ...  36.0788  -81.1781   \n",
      "1     Gill      F  43039 Riley Greens Suite 393  ...  48.8878 -118.2105   \n",
      "2  Sanchez      M      594 White Dale Suite 530  ...  42.1808 -112.2620   \n",
      "3    White      M   9443 Cynthia Court Apt. 038  ...  46.2306 -112.1138   \n",
      "4   Garcia      M              408 Bradley Rest  ...  38.4207  -79.4629   \n",
      "\n",
      "   city_pop                                job         dob  \\\n",
      "0      3495          Psychologist, counselling  1988-03-09   \n",
      "1       149  Special educational needs teacher  1978-06-21   \n",
      "2      4154        Nature conservation officer  1962-01-19   \n",
      "3      1939                    Patent attorney  1967-01-12   \n",
      "4        99     Dance movement psychotherapist  1986-03-28   \n",
      "\n",
      "                          trans_num   unix_time  merch_lat  merch_long  \\\n",
      "0  0b242abb623afc578575680df30655b9  1325376018  36.011293  -82.048315   \n",
      "1  1f76529f8574734946361c461b024d99  1325376044  49.159047 -118.186462   \n",
      "2  a1a22d70485983eac12b5b88dad1cf95  1325376051  43.150704 -112.154481   \n",
      "3  6b849c168bdad6f867558c3793159a81  1325376076  47.034331 -112.561071   \n",
      "4  a41d7549acf90789359a9aa5346dcb46  1325376186  38.674999  -78.632459   \n",
      "\n",
      "   is_fraud  \n",
      "0         0  \n",
      "1         0  \n",
      "2         0  \n",
      "3         0  \n",
      "4         0  \n",
      "\n",
      "[5 rows x 23 columns]\n"
     ]
    }
   ],
   "source": [
    "# get a quick look at the DataFrame\n",
    "print(fraud_train.head())"
   ]
  },
  {
   "cell_type": "code",
   "execution_count": 84,
   "id": "0baf35cc",
   "metadata": {},
   "outputs": [
    {
     "name": "stdout",
     "output_type": "stream",
     "text": [
      "the merchant variable has 693 unique values\n",
      "the city variable has 894 unique values\n",
      "the category variable has 14 unique values\n",
      "the job variable has 494 unique values\n"
     ]
    }
   ],
   "source": [
    "# look at the number of unique values for some predictors\n",
    "print(f'the merchant variable has {fraud_train['merchant'].nunique()} unique values')\n",
    "print(f'the city variable has {fraud_train['city'].nunique()} unique values')\n",
    "print(f'the category variable has {fraud_train['category'].nunique()} unique values')\n",
    "print(f'the job variable has {fraud_train['job'].nunique()} unique values')\n",
    "\n"
   ]
  },
  {
   "cell_type": "markdown",
   "id": "76a2529d",
   "metadata": {},
   "source": [
    "## Data Cleaning & Preparation"
   ]
  },
  {
   "cell_type": "code",
   "execution_count": 85,
   "id": "87846cce",
   "metadata": {},
   "outputs": [
    {
     "data": {
      "text/plain": [
       "Index(['trans_date_trans_time', 'cc_num', 'merchant', 'category', 'amt',\n",
       "       'first', 'last', 'gender', 'street', 'city', 'state', 'zip', 'lat',\n",
       "       'long', 'city_pop', 'job', 'dob', 'trans_num', 'unix_time', 'merch_lat',\n",
       "       'merch_long', 'is_fraud'],\n",
       "      dtype='object')"
      ]
     },
     "execution_count": 85,
     "metadata": {},
     "output_type": "execute_result"
    }
   ],
   "source": [
    "# remove the unnamed column from the train and test DataFrames\n",
    "fraud_train.drop('Unnamed: 0', axis=1, inplace=True)\n",
    "fraud_test.drop('Unnamed: 0', axis=1, inplace=True)\n",
    "\n",
    "fraud_train.columns"
   ]
  },
  {
   "cell_type": "code",
   "execution_count": 86,
   "id": "a9353160",
   "metadata": {},
   "outputs": [
    {
     "name": "stdout",
     "output_type": "stream",
     "text": [
      "        trans_date_trans_time  time_sin  time_cos\n",
      "0         2019-01-01 00:00:18  0.001309  0.999999\n",
      "1         2019-01-01 00:00:44  0.003200  0.999995\n",
      "2         2019-01-01 00:00:51  0.003709  0.999993\n",
      "3         2019-01-01 00:01:16  0.005527  0.999985\n",
      "4         2019-01-01 00:03:06  0.013526  0.999909\n",
      "...                       ...       ...       ...\n",
      "1296670   2020-06-21 12:12:08 -0.052917 -0.998599\n",
      "1296671   2020-06-21 12:12:19 -0.053716 -0.998556\n",
      "1296672   2020-06-21 12:12:32 -0.054660 -0.998505\n",
      "1296673   2020-06-21 12:13:36 -0.059306 -0.998240\n",
      "1296674   2020-06-21 12:13:37 -0.059379 -0.998236\n",
      "\n",
      "[1296675 rows x 3 columns]\n",
      "       trans_date_trans_time  time_sin  time_cos\n",
      "0        2020-06-21 12:14:25 -0.062863 -0.998022\n",
      "1        2020-06-21 12:14:33 -0.063444 -0.997985\n",
      "2        2020-06-21 12:14:53 -0.064895 -0.997892\n",
      "3        2020-06-21 12:15:15 -0.066492 -0.997787\n",
      "4        2020-06-21 12:15:17 -0.066637 -0.997777\n",
      "...                      ...       ...       ...\n",
      "555714   2020-12-31 23:59:07 -0.003854  0.999993\n",
      "555715   2020-12-31 23:59:09 -0.003709  0.999993\n",
      "555716   2020-12-31 23:59:15 -0.003272  0.999995\n",
      "555717   2020-12-31 23:59:24 -0.002618  0.999997\n",
      "555718   2020-12-31 23:59:34 -0.001891  0.999998\n",
      "\n",
      "[555719 rows x 3 columns]\n"
     ]
    }
   ],
   "source": [
    "# create a transaction time variable, converting the time to cyclic sin and cos values \n",
    "fraud_train['trans_date_trans_time'] = pd.to_datetime(fraud_train['trans_date_trans_time'])\n",
    "seconds_train = fraud_train['trans_date_trans_time'].dt.hour * 3600 + fraud_train[\"trans_date_trans_time\"].dt.minute * 60 + fraud_train[\"trans_date_trans_time\"].dt.second\n",
    "\n",
    "fraud_test['trans_date_trans_time'] = pd.to_datetime(fraud_test['trans_date_trans_time'])\n",
    "seconds_test = fraud_test['trans_date_trans_time'].dt.hour * 3600 + fraud_test['trans_date_trans_time'].dt.minute * 60 + fraud_test['trans_date_trans_time'].dt.second\n",
    "\n",
    "# encode the time as a cyclic feature (i.e., 23:59 is next to 00:00)\n",
    "fraud_train['time_sin'] = np.sin(2 * np.pi * seconds_train / 86400)\n",
    "fraud_train['time_cos'] = np.cos(2 * np.pi * seconds_train / 86400)\n",
    "\n",
    "fraud_test['time_sin'] = np.sin(2 * np.pi * seconds_test / 86400)\n",
    "fraud_test['time_cos'] = np.cos(2 * np.pi * seconds_test / 86400)\n",
    "\n",
    "print(fraud_train[['trans_date_trans_time', 'time_sin', 'time_cos']])\n",
    "print(fraud_test[['trans_date_trans_time', 'time_sin', 'time_cos']])\n"
   ]
  },
  {
   "cell_type": "code",
   "execution_count": 87,
   "id": "c2dc6e91",
   "metadata": {},
   "outputs": [
    {
     "name": "stdout",
     "output_type": "stream",
     "text": [
      "         age\n",
      "0         30\n",
      "1         40\n",
      "2         56\n",
      "3         52\n",
      "4         32\n",
      "...      ...\n",
      "1296670   58\n",
      "1296671   40\n",
      "1296672   52\n",
      "1296673   39\n",
      "1296674   24\n",
      "\n",
      "[1296675 rows x 1 columns]\n",
      "        age\n",
      "0        52\n",
      "1        30\n",
      "2        49\n",
      "3        32\n",
      "4        65\n",
      "...     ...\n",
      "555714   54\n",
      "555715   21\n",
      "555716   39\n",
      "555717   55\n",
      "555718   27\n",
      "\n",
      "[555719 rows x 1 columns]\n"
     ]
    }
   ],
   "source": [
    "# create an age variable \n",
    "fraud_train['dob'] = pd.to_datetime(fraud_train['dob'])\n",
    "fraud_train['age'] = (fraud_train['trans_date_trans_time'] - fraud_train['dob']).dt.days // 365\n",
    "\n",
    "fraud_test['dob'] = pd.to_datetime(fraud_test['dob'])\n",
    "fraud_test['age'] = (fraud_test['trans_date_trans_time'] - fraud_test['dob']).dt.days // 365\n",
    "\n",
    "print(fraud_train[['age']])\n",
    "print(fraud_test[['age']])"
   ]
  },
  {
   "cell_type": "code",
   "execution_count": 88,
   "id": "f2ff2b88",
   "metadata": {},
   "outputs": [
    {
     "name": "stderr",
     "output_type": "stream",
     "text": [
      "/var/folders/_b/nz611b6x1t518910sjh2n24r0000gn/T/ipykernel_30821/1874765653.py:2: FutureWarning: Downcasting behavior in `replace` is deprecated and will be removed in a future version. To retain the old behavior, explicitly call `result.infer_objects(copy=False)`. To opt-in to the future behavior, set `pd.set_option('future.no_silent_downcasting', True)`\n",
      "  fraud_train['gender'] = fraud_train['gender'].replace(['M', 'F'], [0, 1])\n",
      "/var/folders/_b/nz611b6x1t518910sjh2n24r0000gn/T/ipykernel_30821/1874765653.py:3: FutureWarning: Downcasting behavior in `replace` is deprecated and will be removed in a future version. To retain the old behavior, explicitly call `result.infer_objects(copy=False)`. To opt-in to the future behavior, set `pd.set_option('future.no_silent_downcasting', True)`\n",
      "  fraud_test['gender'] = fraud_test['gender'].replace(['M', 'F'], [0, 1])\n"
     ]
    },
    {
     "data": {
      "text/html": [
       "<div>\n",
       "<style scoped>\n",
       "    .dataframe tbody tr th:only-of-type {\n",
       "        vertical-align: middle;\n",
       "    }\n",
       "\n",
       "    .dataframe tbody tr th {\n",
       "        vertical-align: top;\n",
       "    }\n",
       "\n",
       "    .dataframe thead th {\n",
       "        text-align: right;\n",
       "    }\n",
       "</style>\n",
       "<table border=\"1\" class=\"dataframe\">\n",
       "  <thead>\n",
       "    <tr style=\"text-align: right;\">\n",
       "      <th></th>\n",
       "      <th>gender</th>\n",
       "    </tr>\n",
       "  </thead>\n",
       "  <tbody>\n",
       "    <tr>\n",
       "      <th>0</th>\n",
       "      <td>1</td>\n",
       "    </tr>\n",
       "    <tr>\n",
       "      <th>1</th>\n",
       "      <td>1</td>\n",
       "    </tr>\n",
       "    <tr>\n",
       "      <th>2</th>\n",
       "      <td>0</td>\n",
       "    </tr>\n",
       "    <tr>\n",
       "      <th>3</th>\n",
       "      <td>0</td>\n",
       "    </tr>\n",
       "    <tr>\n",
       "      <th>4</th>\n",
       "      <td>0</td>\n",
       "    </tr>\n",
       "  </tbody>\n",
       "</table>\n",
       "</div>"
      ],
      "text/plain": [
       "   gender\n",
       "0       1\n",
       "1       1\n",
       "2       0\n",
       "3       0\n",
       "4       0"
      ]
     },
     "execution_count": 88,
     "metadata": {},
     "output_type": "execute_result"
    }
   ],
   "source": [
    "# turn gender into a binary variable (men = 0, women = 1)\n",
    "fraud_train['gender'] = fraud_train['gender'].replace(['M', 'F'], [0, 1])\n",
    "fraud_test['gender'] = fraud_test['gender'].replace(['M', 'F'], [0, 1])\n",
    "\n",
    "fraud_train[['gender']].head()"
   ]
  },
  {
   "cell_type": "code",
   "execution_count": 89,
   "id": "c2b5dae1",
   "metadata": {},
   "outputs": [
    {
     "data": {
      "text/plain": [
       "Index(['trans_date_trans_time', 'cc_num', 'merchant', 'amt', 'first', 'last',\n",
       "       'gender', 'street', 'city', 'state', 'zip', 'lat', 'long', 'city_pop',\n",
       "       'job', 'dob', 'trans_num', 'unix_time', 'merch_lat', 'merch_long',\n",
       "       'is_fraud', 'time_sin', 'time_cos', 'age', 'merchant_encoded',\n",
       "       'city_encoded', 'job_encoded', 'category_entertainment',\n",
       "       'category_food_dining', 'category_gas_transport',\n",
       "       'category_grocery_net', 'category_grocery_pos',\n",
       "       'category_health_fitness', 'category_home', 'category_kids_pets',\n",
       "       'category_misc_net', 'category_misc_pos', 'category_personal_care',\n",
       "       'category_shopping_net', 'category_shopping_pos', 'category_travel'],\n",
       "      dtype='object')"
      ]
     },
     "execution_count": 89,
     "metadata": {},
     "output_type": "execute_result"
    }
   ],
   "source": [
    "# create a frequency encoding for the merchant column and map it to the train and test data\n",
    "merchant_freq_map = fraud_train['merchant'].value_counts(normalize=True).to_dict()\n",
    "fraud_train['merchant_encoded'] = fraud_train['merchant'].map(merchant_freq_map)\n",
    "fraud_test['merchant_encoded'] = fraud_test['merchant'].map(merchant_freq_map)\n",
    "\n",
    "# create a frequency encoding for the city column and map it to the train and test data\n",
    "city_freq_map = fraud_train['city'].value_counts(normalize=True).to_dict()\n",
    "fraud_train['city_encoded'] = fraud_train['city'].map(city_freq_map)\n",
    "fraud_test['city_encoded'] = fraud_test['city'].map(city_freq_map)\n",
    "\n",
    "# create a frequency encoding for the job column and map it to the train and test data\n",
    "job_freq_map = fraud_train['job'].value_counts(normalize=True).to_dict()\n",
    "fraud_train['job_encoded'] = fraud_train['job'].map(job_freq_map)\n",
    "fraud_test['job_encoded'] = fraud_test['job'].map(job_freq_map)\n",
    "\n",
    "# create a one-hot encoding for the category column, and join the encodings to the train and test data\n",
    "oh_encoder = OneHotEncoder(sparse_output=False, handle_unknown='ignore')\n",
    "oh_encoder.fit(fraud_train[['category']])\n",
    "\n",
    "oh_encoded_train = oh_encoder.transform(fraud_train[['category']]) \n",
    "oh_encoded_test = oh_encoder.transform(fraud_test[['category']])\n",
    "\n",
    "oh_encoded_train_df = pd.DataFrame(oh_encoded_train, columns=oh_encoder.get_feature_names_out(['category']), index=fraud_train.index)\n",
    "oh_encoded_test_df = pd.DataFrame(oh_encoded_test, columns=oh_encoder.get_feature_names_out(['category']), index=fraud_test.index)\n",
    "\n",
    "fraud_train = pd.concat([fraud_train.drop(columns=[\"category\"]), oh_encoded_train_df], axis=1)\n",
    "fraud_test = pd.concat([fraud_test.drop(columns=[\"category\"]), oh_encoded_test_df], axis=1)\n",
    "\n",
    "# view all of the columns in the updated DataFrames\n",
    "fraud_train.columns\n",
    "fraud_test.columns"
   ]
  },
  {
   "cell_type": "markdown",
   "id": "1bbb8e2c",
   "metadata": {},
   "source": [
    "## Model Training and Testing"
   ]
  },
  {
   "cell_type": "code",
   "execution_count": null,
   "id": "2eaec658",
   "metadata": {},
   "outputs": [],
   "source": []
  }
 ],
 "metadata": {
  "kernelspec": {
   "display_name": ".venv (3.13.0)",
   "language": "python",
   "name": "python3"
  },
  "language_info": {
   "codemirror_mode": {
    "name": "ipython",
    "version": 3
   },
   "file_extension": ".py",
   "mimetype": "text/x-python",
   "name": "python",
   "nbconvert_exporter": "python",
   "pygments_lexer": "ipython3",
   "version": "3.13.0"
  }
 },
 "nbformat": 4,
 "nbformat_minor": 5
}
